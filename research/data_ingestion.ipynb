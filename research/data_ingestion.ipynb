{
 "cells": [
  {
   "cell_type": "code",
   "execution_count": 1,
   "id": "907b23cd",
   "metadata": {},
   "outputs": [
    {
     "data": {
      "text/plain": [
       "'c:\\\\Users\\\\NARINDER\\\\Desktop\\\\Local Chatbot\\\\research'"
      ]
     },
     "execution_count": 1,
     "metadata": {},
     "output_type": "execute_result"
    }
   ],
   "source": [
    "%pwd"
   ]
  },
  {
   "cell_type": "code",
   "execution_count": 2,
   "id": "7d1e2be5",
   "metadata": {},
   "outputs": [],
   "source": [
    "import os\n",
    "os.chdir(\"..\")  # Change to the parent directory"
   ]
  },
  {
   "cell_type": "code",
   "execution_count": 3,
   "id": "fed6bd6f",
   "metadata": {},
   "outputs": [
    {
     "data": {
      "text/plain": [
       "'c:\\\\Users\\\\NARINDER\\\\Desktop\\\\Local Chatbot'"
      ]
     },
     "execution_count": 3,
     "metadata": {},
     "output_type": "execute_result"
    }
   ],
   "source": [
    "%pwd"
   ]
  },
  {
   "cell_type": "code",
   "execution_count": 4,
   "id": "1c221169",
   "metadata": {},
   "outputs": [],
   "source": [
    "from dataclasses import dataclass\n",
    "from pathlib import Path\n",
    "\n",
    "@dataclass(frozen=True)\n",
    "class DataIngestionConfig:\n",
    "    root_dir: Path\n",
    "    source_url: str\n",
    "    unzip_dir: Path"
   ]
  },
  {
   "cell_type": "code",
   "execution_count": 14,
   "id": "07139ab6",
   "metadata": {},
   "outputs": [],
   "source": [
    "from src.chatbot.constants import *\n",
    "from src.chatbot.utils.common import read_yaml, create_directory\n",
    "\n",
    "class ConfigurationManager:\n",
    "    def __init__(self, config_filepath=CONFIG_FILE_PATH, params_filepath=PARAMS_FILE_PATH):\n",
    "        self.config = read_yaml(config_filepath)\n",
    "        self.params = read_yaml(params_filepath)\n",
    "        create_directory([self.config.artifact_root])\n",
    "    \n",
    "    def get_data_ingestion_config(self) -> DataIngestionConfig:\n",
    "        config = self.config.data_ingestion\n",
    "        create_directory([config.root_dir])\n",
    "        data_ingestion_config = DataIngestionConfig(\n",
    "            root_dir=Path(config.root_dir),\n",
    "            source_url=config.source_url,\n",
    "            unzip_dir=Path(config.unzip_dir)\n",
    "        )\n",
    "        return data_ingestion_config"
   ]
  },
  {
   "cell_type": "code",
   "execution_count": null,
   "id": "f4eebd52",
   "metadata": {},
   "outputs": [],
   "source": [
    "from kaggle import api\n",
    "from pathlib import Path\n",
    "from src.chatbot import logger\n",
    "\n",
    "class DataIngestion:\n",
    "    def __init__(self, config: DataIngestionConfig):\n",
    "        self.config = config\n",
    "\n",
    "    def download_data(self) -> Path:\n",
    "        logger.info(f\"Downloading file from {self.config.source_url} to {self.config.root_dir}\")\n",
    "        api.dataset_download_files(dataset=self.config.source_url, path=self.config.root_dir, unzip=True)\n",
    "        \n",
    "    def initiate_data_ingestion(self) -> Path:\n",
    "        self.download_data()\n",
    "        return self.config.unzip_dir"
   ]
  },
  {
   "cell_type": "code",
   "execution_count": 28,
   "id": "f45c3133",
   "metadata": {},
   "outputs": [
    {
     "name": "stdout",
     "output_type": "stream",
     "text": [
      "[2025-10-21 16:34:42,714: INFO: common]: yaml file: config\\config.yaml loaded successfully\n",
      "[2025-10-21 16:34:42,718: INFO: common]: yaml file: params.yaml loaded successfully\n",
      "[2025-10-21 16:34:42,722: INFO: common]: Directory created at: artifacts\n",
      "[2025-10-21 16:34:42,725: INFO: common]: Directory created at: artifacts/data_ingestion\n",
      "[2025-10-21 16:34:42,727: INFO: 301372740]: Downloading file from niraliivaghani/chatbot-dataset to artifacts\\data_ingestion\n",
      "Dataset URL: https://www.kaggle.com/datasets/niraliivaghani/chatbot-dataset\n"
     ]
    }
   ],
   "source": [
    "from src.chatbot import logger\n",
    "from kaggle import api\n",
    "\n",
    "try:\n",
    "    config = ConfigurationManager()\n",
    "    data_ingestion_config = config.get_data_ingestion_config()\n",
    "    data_ingestion = DataIngestion(config=data_ingestion_config)\n",
    "    data_ingestion.initiate_data_ingestion()\n",
    "\n",
    "except Exception as e:\n",
    "    logger.exception(e)\n",
    "    raise e"
   ]
  },
  {
   "cell_type": "code",
   "execution_count": null,
   "id": "a616ff97",
   "metadata": {},
   "outputs": [],
   "source": []
  },
  {
   "cell_type": "code",
   "execution_count": null,
   "id": "aebb1c49",
   "metadata": {},
   "outputs": [],
   "source": []
  }
 ],
 "metadata": {
  "kernelspec": {
   "display_name": "venv",
   "language": "python",
   "name": "python3"
  },
  "language_info": {
   "codemirror_mode": {
    "name": "ipython",
    "version": 3
   },
   "file_extension": ".py",
   "mimetype": "text/x-python",
   "name": "python",
   "nbconvert_exporter": "python",
   "pygments_lexer": "ipython3",
   "version": "3.12.6"
  }
 },
 "nbformat": 4,
 "nbformat_minor": 5
}
